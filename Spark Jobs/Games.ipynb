{
 "cells": [
  {
   "cell_type": "code",
   "execution_count": 61,
   "metadata": {},
   "outputs": [],
   "source": [
    "import requests\n",
    "from pyspark import SparkContext\n",
    "from pyspark.sql import SQLContext\n",
    "\n",
    "sc.stop()\n",
    "\n",
    "sc = SparkContext(\"local\", \"NHL Games\").getOrCreate()\n",
    "sqlContext = SQLContext(sc)\n",
    "r = requests.get('https://statsapi.web.nhl.com/api/v1/schedule')\n",
    "data = r.json()\n",
    "games = data['dates'][0]['games']\n",
    "parsed_games = list()\n",
    "\n",
    "\n",
    "for game in games:\n",
    "    game_r = requests.get(f'https://statsapi.web.nhl.com/{link}')\n",
    "    game_data = game_r.json()\n",
    "    \n",
    "    parsed_game = dict({\n",
    "        \"game_id\": game['gamePk'],\n",
    "        \"api_link\": link,\n",
    "        \"game_type\": game['gameType'],\n",
    "        \"season\": game['season'],\n",
    "        \"timestamp\":  game_data['metaData']['timeStamp'],\n",
    "        \"game_data\": game_data['gameData'],\n",
    "        \"live_data\":  game_data['liveData']\n",
    "    })\n",
    "    \n",
    "    parsed_games.append(parsed_game)\n",
    "\n",
    "\n",
    "rdd = sc.parallelize(parsed_games)\n",
    "df = sqlContext.createDataFrame(rdd)\n",
    "df.coalesce(1).write.format('json').save('/home/lucsomers/test.json')"
   ]
  },
  {
   "cell_type": "code",
   "execution_count": null,
   "metadata": {},
   "outputs": [],
   "source": []
  }
 ],
 "metadata": {
  "kernelspec": {
   "display_name": "Python 3",
   "language": "python",
   "name": "python3"
  },
  "language_info": {
   "codemirror_mode": {
    "name": "ipython",
    "version": 3
   },
   "file_extension": ".py",
   "mimetype": "text/x-python",
   "name": "python",
   "nbconvert_exporter": "python",
   "pygments_lexer": "ipython3",
   "version": "3.7.3"
  }
 },
 "nbformat": 4,
 "nbformat_minor": 2
}
