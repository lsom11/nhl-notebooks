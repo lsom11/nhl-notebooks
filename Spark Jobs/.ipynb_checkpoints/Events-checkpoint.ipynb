{
 "cells": [
  {
   "cell_type": "code",
   "execution_count": 16,
   "metadata": {},
   "outputs": [
    {
     "ename": "SyntaxError",
     "evalue": "invalid syntax (<ipython-input-16-3635106f6dd3>, line 52)",
     "output_type": "error",
     "traceback": [
      "\u001b[0;36m  File \u001b[0;32m\"<ipython-input-16-3635106f6dd3>\"\u001b[0;36m, line \u001b[0;32m52\u001b[0m\n\u001b[0;31m    'game_id': gameid,\u001b[0m\n\u001b[0m             ^\u001b[0m\n\u001b[0;31mSyntaxError\u001b[0m\u001b[0;31m:\u001b[0m invalid syntax\n"
     ]
    }
   ],
   "source": [
    "import requests\n",
    "from pyspark import SparkContext\n",
    "from pyspark.sql import SQLContext\n",
    "from itertools import chain, starmap\n",
    "\n",
    "def flatten_json_iterative_solution(dictionary):\n",
    "    \"\"\"Flatten a nested json file\"\"\"\n",
    "\n",
    "    def unpack(parent_key, parent_value):\n",
    "        \"\"\"Unpack one level of nesting in json file\"\"\"\n",
    "        # Unpack one level only!!!\n",
    "        \n",
    "        if isinstance(parent_value, dict):\n",
    "            for key, value in parent_value.items():\n",
    "                temp1 = parent_key + '_' + key\n",
    "                yield temp1, value\n",
    "        elif isinstance(parent_value, list):\n",
    "            i = 0 \n",
    "            for value in parent_value:\n",
    "                temp2 = parent_key + '_'+str(i) \n",
    "                i += 1\n",
    "                yield temp2, value\n",
    "        else:\n",
    "            yield parent_key, parent_value    \n",
    "\n",
    "            \n",
    "    # Keep iterating until the termination condition is satisfied\n",
    "    while True:\n",
    "        # Keep unpacking the json file until all values are atomic elements (not dictionary or list)\n",
    "        dictionary = dict(chain.from_iterable(starmap(unpack, dictionary.items())))\n",
    "        # Terminate condition: not any value in the json file is dictionary or list\n",
    "        if not any(isinstance(value, dict) for value in dictionary.values()) and \\\n",
    "           not any(isinstance(value, list) for value in dictionary.values()):\n",
    "            break\n",
    "\n",
    "    return dictionary\n",
    "\n",
    "sc.stop()\n",
    "\n",
    "sc = SparkContext(\"local\", \"NHL Events\").getOrCreate()\n",
    "sqlContext = SQLContext(sc)\n",
    "r = requests.get('https://statsapi.web.nhl.com/api/v1/game/2019020156/feed/live')\n",
    "data = r.json()\n",
    "\n",
    "game_id = data['gamePk']\n",
    "api_link = data['link']\n",
    "timestamp = data['metaData']['timeStamp']\n",
    "gameData = data['gameData']\n",
    "liveData = data['liveData']\n",
    "\n",
    "flattened_data = flatten_json_iterative_solution({\n",
    "    'game_id': gameid,\n",
    "    'api_link': api_link,\n",
    "    'timestamp': timestamp\n",
    "    })\n",
    "\n",
    "\n",
    "# print(game_id, liveData)\n",
    "\n",
    "\n",
    "df = sqlContext.read.json(sc.parallelize(flattened_data), multiLine=True)\n",
    "df.show(df.count(), False)"
   ]
  }
 ],
 "metadata": {
  "kernelspec": {
   "display_name": "Python 3",
   "language": "python",
   "name": "python3"
  },
  "language_info": {
   "codemirror_mode": {
    "name": "ipython",
    "version": 3
   },
   "file_extension": ".py",
   "mimetype": "text/x-python",
   "name": "python",
   "nbconvert_exporter": "python",
   "pygments_lexer": "ipython3",
   "version": "3.6.9"
  }
 },
 "nbformat": 4,
 "nbformat_minor": 2
}
