{
 "cells": [
  {
   "cell_type": "code",
   "execution_count": 2,
   "metadata": {},
   "outputs": [],
   "source": [
    "import requests\n",
    "import pandas as pd\n",
    "r = requests.get('https://statsapi.web.nhl.com/api/v1/game/2019020156/feed/live')\n",
    "data = r.json()\n",
    "\n",
    "copyright = data['copyright']\n",
    "game_id = data['gamePk']\n",
    "api_link = data['link']\n",
    "timestamp = data['metaData']['timeStamp']\n",
    "gameData = data['gameData']\n",
    "liveData = data['liveData']\n"
   ]
  },
  {
   "cell_type": "code",
   "execution_count": 3,
   "metadata": {},
   "outputs": [],
   "source": [
    "gameData = data['gameData']\n",
    "game = gameData['game']\n",
    "datetime = gameData['datetime']\n",
    "status = gameData['status']\n",
    "players = gameData['players']\n",
    "venue = gameData['venue']\n",
    "\n",
    "gameStart = datetime['dateTime']\n",
    "gameEnd = datetime['endDateTime']\n",
    "progress = status['detailedState']\n"
   ]
  },
  {
   "cell_type": "code",
   "execution_count": 4,
   "metadata": {},
   "outputs": [
    {
     "data": {
      "text/plain": [
       "id                                                                28\n",
       "name                                                 San Jose Sharks\n",
       "link                                                /api/v1/teams/28\n",
       "venue              {'name': 'SAP Center at San Jose', 'link': '/a...\n",
       "abbreviation                                                     SJS\n",
       "triCode                                                          SJS\n",
       "teamName                                                      Sharks\n",
       "locationName                                                San Jose\n",
       "firstYearOfPlay                                                 1991\n",
       "division           {'id': 15, 'name': 'Pacific', 'nameShort': 'PA...\n",
       "conference         {'id': 5, 'name': 'Western', 'link': '/api/v1/...\n",
       "franchise          {'franchiseId': 29, 'teamName': 'Sharks', 'lin...\n",
       "shortName                                                   San Jose\n",
       "officialSiteUrl                             http://www.sjsharks.com/\n",
       "franchiseId                                                       29\n",
       "active                                                          True\n",
       "dtype: object"
      ]
     },
     "execution_count": 4,
     "metadata": {},
     "output_type": "execute_result"
    }
   ],
   "source": [
    "teams = gameData['teams']\n",
    "homeTeam = pd.Series(teams['home'])\n",
    "awayTeam = pd.Series(teams['away'])\n",
    "\n",
    "\n",
    "homeTeam\n",
    "awayTeam\n"
   ]
  },
  {
   "cell_type": "code",
   "execution_count": null,
   "metadata": {},
   "outputs": [],
   "source": [
    "def createAdvantageDataFrame(d, team):\n",
    "    start = []\n",
    "    end = []\n",
    "    skaterDifference = []\n",
    "    team = []\n",
    "    for item in d:\n",
    "        start.append(item['start'])\n",
    "        end.append(item['end'])\n",
    "        skaterDifference.append(item['skaterDifference'])\n",
    "        team.append(team)\n",
    "    dataframe = dict()\n",
    "    dataframe['start'] = start\n",
    "    dataframe['end'] = end\n",
    "    dataframe['skaterDifference'] = skaterDifference\n",
    "    dataframe['team'] = team\n",
    "    return dataframe\n",
    "\n",
    "plays = liveData['plays']\n",
    "linescore = liveData['linescore']\n",
    "boxscore = liveData['boxscore']\n",
    "decisions = liveData['decisions']\n",
    "\n",
    "gamePressures = pd.Series(liveData['shotPressure']['gamePressures'])\n",
    "d = createAdvantageDataFrame(liveData['shotPressure']['skaterAdvantages']['homeTeam'], 'Home')\n",
    "d.update(createAdvantageDataFrame(liveData['shotPressure']['skaterAdvantages']['awayTeam'], 'Away'))\n",
    "skaterAdvantages = pd.DataFrame(list(d.items()))\n",
    "\n",
    "skaterAdvantages\n",
    "\n"
   ]
  }
 ],
 "metadata": {
  "kernelspec": {
   "display_name": "Python 3",
   "language": "python",
   "name": "python3"
  },
  "language_info": {
   "codemirror_mode": {
    "name": "ipython",
    "version": 3
   },
   "file_extension": ".py",
   "mimetype": "text/x-python",
   "name": "python",
   "nbconvert_exporter": "python",
   "pygments_lexer": "ipython3",
   "version": "3.6.8"
  }
 },
 "nbformat": 4,
 "nbformat_minor": 2
}
